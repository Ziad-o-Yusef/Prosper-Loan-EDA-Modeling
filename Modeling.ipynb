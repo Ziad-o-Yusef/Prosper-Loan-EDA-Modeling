{
 "cells": [
  {
   "cell_type": "markdown",
   "id": "83dfd071",
   "metadata": {},
   "source": [
    "# Intro"
   ]
  },
  {
   "cell_type": "markdown",
   "id": "0d75ed29",
   "metadata": {},
   "source": [
    "### We have done a detailed analysis of this data.. You can see it from here : https://www.kaggle.com/code/zeadomar/preliminary-eda-of-prosper-loan\n",
    "### Or from here : \n"
   ]
  },
  {
   "cell_type": "markdown",
   "id": "7874774a",
   "metadata": {},
   "source": [
    "### Here we will care more about data cleaning , preprocessing , feature selection and modeling"
   ]
  },
  {
   "cell_type": "markdown",
   "id": "2b26b844",
   "metadata": {},
   "source": [
    "# Importing & Get data"
   ]
  },
  {
   "cell_type": "code",
   "execution_count": 1,
   "id": "773173b3",
   "metadata": {},
   "outputs": [],
   "source": [
    "import numpy as np\n",
    "import pandas as pd\n",
    "import matplotlib.pyplot as plt\n",
    "from sklearn.feature_selection import mutual_info_regression\n",
    "from sklearn.preprocessing import LabelEncoder\n",
    "from sklearn.model_selection import train_test_split\n",
    "from sklearn.model_selection import GridSearchCV\n",
    "from sklearn.metrics import classification_report\n",
    "from sklearn import tree\n",
    "from sklearn.metrics import precision_score,recall_score, confusion_matrix, classification_report,accuracy_score, f1_score\n",
    "from mlxtend.plotting import plot_confusion_matrix\n",
    "from sklearn.preprocessing import StandardScaler\n"
   ]
  },
  {
   "cell_type": "code",
   "execution_count": 2,
   "id": "85e6c1b2",
   "metadata": {},
   "outputs": [
    {
     "data": {
      "text/html": [
       "<div>\n",
       "<style scoped>\n",
       "    .dataframe tbody tr th:only-of-type {\n",
       "        vertical-align: middle;\n",
       "    }\n",
       "\n",
       "    .dataframe tbody tr th {\n",
       "        vertical-align: top;\n",
       "    }\n",
       "\n",
       "    .dataframe thead th {\n",
       "        text-align: right;\n",
       "    }\n",
       "</style>\n",
       "<table border=\"1\" class=\"dataframe\">\n",
       "  <thead>\n",
       "    <tr style=\"text-align: right;\">\n",
       "      <th></th>\n",
       "      <th>ListingKey</th>\n",
       "      <th>ListingNumber</th>\n",
       "      <th>ListingCreationDate</th>\n",
       "      <th>CreditGrade</th>\n",
       "      <th>Term</th>\n",
       "      <th>LoanStatus</th>\n",
       "      <th>ClosedDate</th>\n",
       "      <th>BorrowerAPR</th>\n",
       "      <th>BorrowerRate</th>\n",
       "      <th>LenderYield</th>\n",
       "      <th>...</th>\n",
       "      <th>LP_ServiceFees</th>\n",
       "      <th>LP_CollectionFees</th>\n",
       "      <th>LP_GrossPrincipalLoss</th>\n",
       "      <th>LP_NetPrincipalLoss</th>\n",
       "      <th>LP_NonPrincipalRecoverypayments</th>\n",
       "      <th>PercentFunded</th>\n",
       "      <th>Recommendations</th>\n",
       "      <th>InvestmentFromFriendsCount</th>\n",
       "      <th>InvestmentFromFriendsAmount</th>\n",
       "      <th>Investors</th>\n",
       "    </tr>\n",
       "  </thead>\n",
       "  <tbody>\n",
       "    <tr>\n",
       "      <th>0</th>\n",
       "      <td>1021339766868145413AB3B</td>\n",
       "      <td>193129</td>\n",
       "      <td>2007-08-26 19:09:29.263000000</td>\n",
       "      <td>C</td>\n",
       "      <td>36</td>\n",
       "      <td>Completed</td>\n",
       "      <td>2009-08-14 00:00:00</td>\n",
       "      <td>0.16516</td>\n",
       "      <td>0.1580</td>\n",
       "      <td>0.1380</td>\n",
       "      <td>...</td>\n",
       "      <td>-133.18</td>\n",
       "      <td>0.0</td>\n",
       "      <td>0.0</td>\n",
       "      <td>0.0</td>\n",
       "      <td>0.0</td>\n",
       "      <td>1.0</td>\n",
       "      <td>0</td>\n",
       "      <td>0</td>\n",
       "      <td>0.0</td>\n",
       "      <td>258</td>\n",
       "    </tr>\n",
       "    <tr>\n",
       "      <th>1</th>\n",
       "      <td>10273602499503308B223C1</td>\n",
       "      <td>1209647</td>\n",
       "      <td>2014-02-27 08:28:07.900000000</td>\n",
       "      <td>NaN</td>\n",
       "      <td>36</td>\n",
       "      <td>Current</td>\n",
       "      <td>NaN</td>\n",
       "      <td>0.12016</td>\n",
       "      <td>0.0920</td>\n",
       "      <td>0.0820</td>\n",
       "      <td>...</td>\n",
       "      <td>0.00</td>\n",
       "      <td>0.0</td>\n",
       "      <td>0.0</td>\n",
       "      <td>0.0</td>\n",
       "      <td>0.0</td>\n",
       "      <td>1.0</td>\n",
       "      <td>0</td>\n",
       "      <td>0</td>\n",
       "      <td>0.0</td>\n",
       "      <td>1</td>\n",
       "    </tr>\n",
       "    <tr>\n",
       "      <th>2</th>\n",
       "      <td>0EE9337825851032864889A</td>\n",
       "      <td>81716</td>\n",
       "      <td>2007-01-05 15:00:47.090000000</td>\n",
       "      <td>HR</td>\n",
       "      <td>36</td>\n",
       "      <td>Completed</td>\n",
       "      <td>2009-12-17 00:00:00</td>\n",
       "      <td>0.28269</td>\n",
       "      <td>0.2750</td>\n",
       "      <td>0.2400</td>\n",
       "      <td>...</td>\n",
       "      <td>-24.20</td>\n",
       "      <td>0.0</td>\n",
       "      <td>0.0</td>\n",
       "      <td>0.0</td>\n",
       "      <td>0.0</td>\n",
       "      <td>1.0</td>\n",
       "      <td>0</td>\n",
       "      <td>0</td>\n",
       "      <td>0.0</td>\n",
       "      <td>41</td>\n",
       "    </tr>\n",
       "    <tr>\n",
       "      <th>3</th>\n",
       "      <td>0EF5356002482715299901A</td>\n",
       "      <td>658116</td>\n",
       "      <td>2012-10-22 11:02:35.010000000</td>\n",
       "      <td>NaN</td>\n",
       "      <td>36</td>\n",
       "      <td>Current</td>\n",
       "      <td>NaN</td>\n",
       "      <td>0.12528</td>\n",
       "      <td>0.0974</td>\n",
       "      <td>0.0874</td>\n",
       "      <td>...</td>\n",
       "      <td>-108.01</td>\n",
       "      <td>0.0</td>\n",
       "      <td>0.0</td>\n",
       "      <td>0.0</td>\n",
       "      <td>0.0</td>\n",
       "      <td>1.0</td>\n",
       "      <td>0</td>\n",
       "      <td>0</td>\n",
       "      <td>0.0</td>\n",
       "      <td>158</td>\n",
       "    </tr>\n",
       "    <tr>\n",
       "      <th>4</th>\n",
       "      <td>0F023589499656230C5E3E2</td>\n",
       "      <td>909464</td>\n",
       "      <td>2013-09-14 18:38:39.097000000</td>\n",
       "      <td>NaN</td>\n",
       "      <td>36</td>\n",
       "      <td>Current</td>\n",
       "      <td>NaN</td>\n",
       "      <td>0.24614</td>\n",
       "      <td>0.2085</td>\n",
       "      <td>0.1985</td>\n",
       "      <td>...</td>\n",
       "      <td>-60.27</td>\n",
       "      <td>0.0</td>\n",
       "      <td>0.0</td>\n",
       "      <td>0.0</td>\n",
       "      <td>0.0</td>\n",
       "      <td>1.0</td>\n",
       "      <td>0</td>\n",
       "      <td>0</td>\n",
       "      <td>0.0</td>\n",
       "      <td>20</td>\n",
       "    </tr>\n",
       "  </tbody>\n",
       "</table>\n",
       "<p>5 rows × 81 columns</p>\n",
       "</div>"
      ],
      "text/plain": [
       "                ListingKey  ListingNumber            ListingCreationDate  \\\n",
       "0  1021339766868145413AB3B         193129  2007-08-26 19:09:29.263000000   \n",
       "1  10273602499503308B223C1        1209647  2014-02-27 08:28:07.900000000   \n",
       "2  0EE9337825851032864889A          81716  2007-01-05 15:00:47.090000000   \n",
       "3  0EF5356002482715299901A         658116  2012-10-22 11:02:35.010000000   \n",
       "4  0F023589499656230C5E3E2         909464  2013-09-14 18:38:39.097000000   \n",
       "\n",
       "  CreditGrade  Term LoanStatus           ClosedDate  BorrowerAPR  \\\n",
       "0           C    36  Completed  2009-08-14 00:00:00      0.16516   \n",
       "1         NaN    36    Current                  NaN      0.12016   \n",
       "2          HR    36  Completed  2009-12-17 00:00:00      0.28269   \n",
       "3         NaN    36    Current                  NaN      0.12528   \n",
       "4         NaN    36    Current                  NaN      0.24614   \n",
       "\n",
       "   BorrowerRate  LenderYield  ...  LP_ServiceFees  LP_CollectionFees  \\\n",
       "0        0.1580       0.1380  ...         -133.18                0.0   \n",
       "1        0.0920       0.0820  ...            0.00                0.0   \n",
       "2        0.2750       0.2400  ...          -24.20                0.0   \n",
       "3        0.0974       0.0874  ...         -108.01                0.0   \n",
       "4        0.2085       0.1985  ...          -60.27                0.0   \n",
       "\n",
       "   LP_GrossPrincipalLoss  LP_NetPrincipalLoss LP_NonPrincipalRecoverypayments  \\\n",
       "0                    0.0                  0.0                             0.0   \n",
       "1                    0.0                  0.0                             0.0   \n",
       "2                    0.0                  0.0                             0.0   \n",
       "3                    0.0                  0.0                             0.0   \n",
       "4                    0.0                  0.0                             0.0   \n",
       "\n",
       "   PercentFunded  Recommendations InvestmentFromFriendsCount  \\\n",
       "0            1.0                0                          0   \n",
       "1            1.0                0                          0   \n",
       "2            1.0                0                          0   \n",
       "3            1.0                0                          0   \n",
       "4            1.0                0                          0   \n",
       "\n",
       "  InvestmentFromFriendsAmount Investors  \n",
       "0                         0.0       258  \n",
       "1                         0.0         1  \n",
       "2                         0.0        41  \n",
       "3                         0.0       158  \n",
       "4                         0.0        20  \n",
       "\n",
       "[5 rows x 81 columns]"
      ]
     },
     "execution_count": 2,
     "metadata": {},
     "output_type": "execute_result"
    }
   ],
   "source": [
    "df = pd.read_csv(\"prosperLoanData.csv\")\n",
    "df.head()"
   ]
  },
  {
   "cell_type": "code",
   "execution_count": 3,
   "id": "2ef7556d",
   "metadata": {},
   "outputs": [
    {
     "name": "stdout",
     "output_type": "stream",
     "text": [
      "<class 'pandas.core.frame.DataFrame'>\n",
      "RangeIndex: 113937 entries, 0 to 113936\n",
      "Data columns (total 81 columns):\n",
      " #   Column                               Non-Null Count   Dtype  \n",
      "---  ------                               --------------   -----  \n",
      " 0   ListingKey                           113937 non-null  object \n",
      " 1   ListingNumber                        113937 non-null  int64  \n",
      " 2   ListingCreationDate                  113937 non-null  object \n",
      " 3   CreditGrade                          28953 non-null   object \n",
      " 4   Term                                 113937 non-null  int64  \n",
      " 5   LoanStatus                           113937 non-null  object \n",
      " 6   ClosedDate                           55089 non-null   object \n",
      " 7   BorrowerAPR                          113912 non-null  float64\n",
      " 8   BorrowerRate                         113937 non-null  float64\n",
      " 9   LenderYield                          113937 non-null  float64\n",
      " 10  EstimatedEffectiveYield              84853 non-null   float64\n",
      " 11  EstimatedLoss                        84853 non-null   float64\n",
      " 12  EstimatedReturn                      84853 non-null   float64\n",
      " 13  ProsperRating (numeric)              84853 non-null   float64\n",
      " 14  ProsperRating (Alpha)                84853 non-null   object \n",
      " 15  ProsperScore                         84853 non-null   float64\n",
      " 16  ListingCategory (numeric)            113937 non-null  int64  \n",
      " 17  BorrowerState                        108422 non-null  object \n",
      " 18  Occupation                           110349 non-null  object \n",
      " 19  EmploymentStatus                     111682 non-null  object \n",
      " 20  EmploymentStatusDuration             106312 non-null  float64\n",
      " 21  IsBorrowerHomeowner                  113937 non-null  bool   \n",
      " 22  CurrentlyInGroup                     113937 non-null  bool   \n",
      " 23  GroupKey                             13341 non-null   object \n",
      " 24  DateCreditPulled                     113937 non-null  object \n",
      " 25  CreditScoreRangeLower                113346 non-null  float64\n",
      " 26  CreditScoreRangeUpper                113346 non-null  float64\n",
      " 27  FirstRecordedCreditLine              113240 non-null  object \n",
      " 28  CurrentCreditLines                   106333 non-null  float64\n",
      " 29  OpenCreditLines                      106333 non-null  float64\n",
      " 30  TotalCreditLinespast7years           113240 non-null  float64\n",
      " 31  OpenRevolvingAccounts                113937 non-null  int64  \n",
      " 32  OpenRevolvingMonthlyPayment          113937 non-null  float64\n",
      " 33  InquiriesLast6Months                 113240 non-null  float64\n",
      " 34  TotalInquiries                       112778 non-null  float64\n",
      " 35  CurrentDelinquencies                 113240 non-null  float64\n",
      " 36  AmountDelinquent                     106315 non-null  float64\n",
      " 37  DelinquenciesLast7Years              112947 non-null  float64\n",
      " 38  PublicRecordsLast10Years             113240 non-null  float64\n",
      " 39  PublicRecordsLast12Months            106333 non-null  float64\n",
      " 40  RevolvingCreditBalance               106333 non-null  float64\n",
      " 41  BankcardUtilization                  106333 non-null  float64\n",
      " 42  AvailableBankcardCredit              106393 non-null  float64\n",
      " 43  TotalTrades                          106393 non-null  float64\n",
      " 44  TradesNeverDelinquent (percentage)   106393 non-null  float64\n",
      " 45  TradesOpenedLast6Months              106393 non-null  float64\n",
      " 46  DebtToIncomeRatio                    105383 non-null  float64\n",
      " 47  IncomeRange                          113937 non-null  object \n",
      " 48  IncomeVerifiable                     113937 non-null  bool   \n",
      " 49  StatedMonthlyIncome                  113937 non-null  float64\n",
      " 50  LoanKey                              113937 non-null  object \n",
      " 51  TotalProsperLoans                    22085 non-null   float64\n",
      " 52  TotalProsperPaymentsBilled           22085 non-null   float64\n",
      " 53  OnTimeProsperPayments                22085 non-null   float64\n",
      " 54  ProsperPaymentsLessThanOneMonthLate  22085 non-null   float64\n",
      " 55  ProsperPaymentsOneMonthPlusLate      22085 non-null   float64\n",
      " 56  ProsperPrincipalBorrowed             22085 non-null   float64\n",
      " 57  ProsperPrincipalOutstanding          22085 non-null   float64\n",
      " 58  ScorexChangeAtTimeOfListing          18928 non-null   float64\n",
      " 59  LoanCurrentDaysDelinquent            113937 non-null  int64  \n",
      " 60  LoanFirstDefaultedCycleNumber        16952 non-null   float64\n",
      " 61  LoanMonthsSinceOrigination           113937 non-null  int64  \n",
      " 62  LoanNumber                           113937 non-null  int64  \n",
      " 63  LoanOriginalAmount                   113937 non-null  int64  \n",
      " 64  LoanOriginationDate                  113937 non-null  object \n",
      " 65  LoanOriginationQuarter               113937 non-null  object \n",
      " 66  MemberKey                            113937 non-null  object \n",
      " 67  MonthlyLoanPayment                   113937 non-null  float64\n",
      " 68  LP_CustomerPayments                  113937 non-null  float64\n",
      " 69  LP_CustomerPrincipalPayments         113937 non-null  float64\n",
      " 70  LP_InterestandFees                   113937 non-null  float64\n",
      " 71  LP_ServiceFees                       113937 non-null  float64\n",
      " 72  LP_CollectionFees                    113937 non-null  float64\n",
      " 73  LP_GrossPrincipalLoss                113937 non-null  float64\n",
      " 74  LP_NetPrincipalLoss                  113937 non-null  float64\n",
      " 75  LP_NonPrincipalRecoverypayments      113937 non-null  float64\n",
      " 76  PercentFunded                        113937 non-null  float64\n",
      " 77  Recommendations                      113937 non-null  int64  \n",
      " 78  InvestmentFromFriendsCount           113937 non-null  int64  \n",
      " 79  InvestmentFromFriendsAmount          113937 non-null  float64\n",
      " 80  Investors                            113937 non-null  int64  \n",
      "dtypes: bool(3), float64(50), int64(11), object(17)\n",
      "memory usage: 68.1+ MB\n"
     ]
    }
   ],
   "source": [
    "df.info()"
   ]
  },
  {
   "cell_type": "code",
   "execution_count": 30,
   "id": "ab1417c9",
   "metadata": {},
   "outputs": [
    {
     "data": {
      "text/plain": [
       "(113937, 81)"
      ]
     },
     "execution_count": 30,
     "metadata": {},
     "output_type": "execute_result"
    }
   ],
   "source": [
    "df.shape"
   ]
  },
  {
   "cell_type": "markdown",
   "id": "46590eca",
   "metadata": {},
   "source": [
    "# Data Cleaning "
   ]
  },
  {
   "cell_type": "code",
   "execution_count": 31,
   "id": "720b72ec",
   "metadata": {},
   "outputs": [],
   "source": [
    "df.drop(columns=[\"ListingKey\",\"ListingNumber\",\"GroupKey\",\"LoanKey\",\"LoanNumber\",\"MemberKey\",\"DateCreditPulled\"],inplace= True )"
   ]
  },
  {
   "cell_type": "code",
   "execution_count": 32,
   "id": "da0ff746",
   "metadata": {},
   "outputs": [
    {
     "name": "stdout",
     "output_type": "stream",
     "text": [
      "col num : 1 /  CreditGrade / 84984 nulls /74.59 %\n",
      "col num : 4 /  ClosedDate / 58848 nulls /51.65 %\n",
      "col num : 5 /  BorrowerAPR / 25 nulls /0.02 %\n",
      "col num : 8 /  EstimatedEffectiveYield / 29084 nulls /25.53 %\n",
      "col num : 9 /  EstimatedLoss / 29084 nulls /25.53 %\n",
      "col num : 10 /  EstimatedReturn / 29084 nulls /25.53 %\n",
      "col num : 11 /  ProsperRating (numeric) / 29084 nulls /25.53 %\n",
      "col num : 12 /  ProsperRating (Alpha) / 29084 nulls /25.53 %\n",
      "col num : 13 /  ProsperScore / 29084 nulls /25.53 %\n",
      "col num : 15 /  BorrowerState / 5515 nulls /4.84 %\n",
      "col num : 16 /  Occupation / 3588 nulls /3.15 %\n",
      "col num : 17 /  EmploymentStatus / 2255 nulls /1.98 %\n",
      "col num : 18 /  EmploymentStatusDuration / 7625 nulls /6.69 %\n",
      "col num : 21 /  CreditScoreRangeLower / 591 nulls /0.52 %\n",
      "col num : 22 /  CreditScoreRangeUpper / 591 nulls /0.52 %\n",
      "col num : 23 /  FirstRecordedCreditLine / 697 nulls /0.61 %\n",
      "col num : 24 /  CurrentCreditLines / 7604 nulls /6.67 %\n",
      "col num : 25 /  OpenCreditLines / 7604 nulls /6.67 %\n",
      "col num : 26 /  TotalCreditLinespast7years / 697 nulls /0.61 %\n",
      "col num : 29 /  InquiriesLast6Months / 697 nulls /0.61 %\n",
      "col num : 30 /  TotalInquiries / 1159 nulls /1.02 %\n",
      "col num : 31 /  CurrentDelinquencies / 697 nulls /0.61 %\n",
      "col num : 32 /  AmountDelinquent / 7622 nulls /6.69 %\n",
      "col num : 33 /  DelinquenciesLast7Years / 990 nulls /0.87 %\n",
      "col num : 34 /  PublicRecordsLast10Years / 697 nulls /0.61 %\n",
      "col num : 35 /  PublicRecordsLast12Months / 7604 nulls /6.67 %\n",
      "col num : 36 /  RevolvingCreditBalance / 7604 nulls /6.67 %\n",
      "col num : 37 /  BankcardUtilization / 7604 nulls /6.67 %\n",
      "col num : 38 /  AvailableBankcardCredit / 7544 nulls /6.62 %\n",
      "col num : 39 /  TotalTrades / 7544 nulls /6.62 %\n",
      "col num : 40 /  TradesNeverDelinquent (percentage) / 7544 nulls /6.62 %\n",
      "col num : 41 /  TradesOpenedLast6Months / 7544 nulls /6.62 %\n",
      "col num : 42 /  DebtToIncomeRatio / 8554 nulls /7.51 %\n",
      "col num : 46 /  TotalProsperLoans / 91852 nulls /80.62 %\n",
      "col num : 47 /  TotalProsperPaymentsBilled / 91852 nulls /80.62 %\n",
      "col num : 48 /  OnTimeProsperPayments / 91852 nulls /80.62 %\n",
      "col num : 49 /  ProsperPaymentsLessThanOneMonthLate / 91852 nulls /80.62 %\n",
      "col num : 50 /  ProsperPaymentsOneMonthPlusLate / 91852 nulls /80.62 %\n",
      "col num : 51 /  ProsperPrincipalBorrowed / 91852 nulls /80.62 %\n",
      "col num : 52 /  ProsperPrincipalOutstanding / 91852 nulls /80.62 %\n",
      "col num : 53 /  ScorexChangeAtTimeOfListing / 95009 nulls /83.39 %\n",
      "col num : 55 /  LoanFirstDefaultedCycleNumber / 96985 nulls /85.12 %\n"
     ]
    }
   ],
   "source": [
    "lst = df.isnull().sum()\n",
    "for i in range(len(lst)) :\n",
    "    if lst[i] != 0 :\n",
    "        x= lst[i]\n",
    "        col = df.columns[i]\n",
    "        y= (x/df.shape[0])*100\n",
    "        print(\"col num : \" +str(i) + \" /  \" + col + \" / \" + str(x) + \" nulls /\"+ str(round(y,2)) +\" %\")"
   ]
  },
  {
   "cell_type": "code",
   "execution_count": 33,
   "id": "9feaab12",
   "metadata": {},
   "outputs": [],
   "source": [
    "df.drop(columns=[\"CreditGrade\",\"TotalProsperLoans\",\"TotalProsperPaymentsBilled\",\n",
    "                 \"ProsperPaymentsLessThanOneMonthLate\",\"ProsperPaymentsOneMonthPlusLate\",\"ProsperPrincipalBorrowed\",\n",
    "                \"ProsperPrincipalOutstanding\",\"ScorexChangeAtTimeOfListing\",\"LoanFirstDefaultedCycleNumber\",\"OnTimeProsperPayments\",\n",
    "                \"ClosedDate\"],inplace= True )"
   ]
  },
  {
   "cell_type": "code",
   "execution_count": 34,
   "id": "a39f84da",
   "metadata": {},
   "outputs": [],
   "source": [
    "df.dropna(subset=[\"EstimatedEffectiveYield\",\"EstimatedLoss\",\"EstimatedReturn\",\"ProsperRating (numeric)\",\n",
    "\"ProsperRating (Alpha)\",\"ProsperScore\"],inplace = True)"
   ]
  },
  {
   "cell_type": "code",
   "execution_count": 35,
   "id": "7f2bda44",
   "metadata": {},
   "outputs": [
    {
     "name": "stdout",
     "output_type": "stream",
     "text": [
      "col num : 14 /  Occupation / 1333 nulls /1.57 %\n",
      "col num : 16 /  EmploymentStatusDuration / 19 nulls /0.02 %\n",
      "col num : 40 /  DebtToIncomeRatio / 7296 nulls /8.6 %\n"
     ]
    }
   ],
   "source": [
    "lst = df.isnull().sum()\n",
    "for i in range(len(lst)) :\n",
    "    if lst[i] != 0 :\n",
    "        x= lst[i]\n",
    "        col = df.columns[i]\n",
    "        y= (x/df.shape[0])*100\n",
    "        print(\"col num : \" +str(i) + \" /  \" + col + \" / \" + str(x) + \" nulls /\"+ str(round(y,2)) +\" %\")"
   ]
  },
  {
   "cell_type": "code",
   "execution_count": 36,
   "id": "9275eba7",
   "metadata": {},
   "outputs": [],
   "source": [
    "df[\"DebtToIncomeRatio\"].fillna(df[\"DebtToIncomeRatio\"].mean,inplace = True)"
   ]
  },
  {
   "cell_type": "code",
   "execution_count": 37,
   "id": "c159eb9c",
   "metadata": {},
   "outputs": [],
   "source": [
    "df.dropna(inplace = True)"
   ]
  },
  {
   "cell_type": "code",
   "execution_count": 38,
   "id": "23959fd6",
   "metadata": {},
   "outputs": [
    {
     "name": "stdout",
     "output_type": "stream",
     "text": [
      "<class 'pandas.core.frame.DataFrame'>\n",
      "Int64Index: 83507 entries, 1 to 113936\n",
      "Data columns (total 63 columns):\n",
      " #   Column                              Non-Null Count  Dtype  \n",
      "---  ------                              --------------  -----  \n",
      " 0   ListingCreationDate                 83507 non-null  object \n",
      " 1   Term                                83507 non-null  int64  \n",
      " 2   LoanStatus                          83507 non-null  object \n",
      " 3   BorrowerAPR                         83507 non-null  float64\n",
      " 4   BorrowerRate                        83507 non-null  float64\n",
      " 5   LenderYield                         83507 non-null  float64\n",
      " 6   EstimatedEffectiveYield             83507 non-null  float64\n",
      " 7   EstimatedLoss                       83507 non-null  float64\n",
      " 8   EstimatedReturn                     83507 non-null  float64\n",
      " 9   ProsperRating (numeric)             83507 non-null  float64\n",
      " 10  ProsperRating (Alpha)               83507 non-null  object \n",
      " 11  ProsperScore                        83507 non-null  float64\n",
      " 12  ListingCategory (numeric)           83507 non-null  int64  \n",
      " 13  BorrowerState                       83507 non-null  object \n",
      " 14  Occupation                          83507 non-null  object \n",
      " 15  EmploymentStatus                    83507 non-null  object \n",
      " 16  EmploymentStatusDuration            83507 non-null  float64\n",
      " 17  IsBorrowerHomeowner                 83507 non-null  bool   \n",
      " 18  CurrentlyInGroup                    83507 non-null  bool   \n",
      " 19  CreditScoreRangeLower               83507 non-null  float64\n",
      " 20  CreditScoreRangeUpper               83507 non-null  float64\n",
      " 21  FirstRecordedCreditLine             83507 non-null  object \n",
      " 22  CurrentCreditLines                  83507 non-null  float64\n",
      " 23  OpenCreditLines                     83507 non-null  float64\n",
      " 24  TotalCreditLinespast7years          83507 non-null  float64\n",
      " 25  OpenRevolvingAccounts               83507 non-null  int64  \n",
      " 26  OpenRevolvingMonthlyPayment         83507 non-null  float64\n",
      " 27  InquiriesLast6Months                83507 non-null  float64\n",
      " 28  TotalInquiries                      83507 non-null  float64\n",
      " 29  CurrentDelinquencies                83507 non-null  float64\n",
      " 30  AmountDelinquent                    83507 non-null  float64\n",
      " 31  DelinquenciesLast7Years             83507 non-null  float64\n",
      " 32  PublicRecordsLast10Years            83507 non-null  float64\n",
      " 33  PublicRecordsLast12Months           83507 non-null  float64\n",
      " 34  RevolvingCreditBalance              83507 non-null  float64\n",
      " 35  BankcardUtilization                 83507 non-null  float64\n",
      " 36  AvailableBankcardCredit             83507 non-null  float64\n",
      " 37  TotalTrades                         83507 non-null  float64\n",
      " 38  TradesNeverDelinquent (percentage)  83507 non-null  float64\n",
      " 39  TradesOpenedLast6Months             83507 non-null  float64\n",
      " 40  DebtToIncomeRatio                   83507 non-null  object \n",
      " 41  IncomeRange                         83507 non-null  object \n",
      " 42  IncomeVerifiable                    83507 non-null  bool   \n",
      " 43  StatedMonthlyIncome                 83507 non-null  float64\n",
      " 44  LoanCurrentDaysDelinquent           83507 non-null  int64  \n",
      " 45  LoanMonthsSinceOrigination          83507 non-null  int64  \n",
      " 46  LoanOriginalAmount                  83507 non-null  int64  \n",
      " 47  LoanOriginationDate                 83507 non-null  object \n",
      " 48  LoanOriginationQuarter              83507 non-null  object \n",
      " 49  MonthlyLoanPayment                  83507 non-null  float64\n",
      " 50  LP_CustomerPayments                 83507 non-null  float64\n",
      " 51  LP_CustomerPrincipalPayments        83507 non-null  float64\n",
      " 52  LP_InterestandFees                  83507 non-null  float64\n",
      " 53  LP_ServiceFees                      83507 non-null  float64\n",
      " 54  LP_CollectionFees                   83507 non-null  float64\n",
      " 55  LP_GrossPrincipalLoss               83507 non-null  float64\n",
      " 56  LP_NetPrincipalLoss                 83507 non-null  float64\n",
      " 57  LP_NonPrincipalRecoverypayments     83507 non-null  float64\n",
      " 58  PercentFunded                       83507 non-null  float64\n",
      " 59  Recommendations                     83507 non-null  int64  \n",
      " 60  InvestmentFromFriendsCount          83507 non-null  int64  \n",
      " 61  InvestmentFromFriendsAmount         83507 non-null  float64\n",
      " 62  Investors                           83507 non-null  int64  \n",
      "dtypes: bool(3), float64(40), int64(9), object(11)\n",
      "memory usage: 39.1+ MB\n"
     ]
    }
   ],
   "source": [
    "df.info()"
   ]
  },
  {
   "cell_type": "code",
   "execution_count": 39,
   "id": "09a14ae3",
   "metadata": {},
   "outputs": [],
   "source": [
    "df[\"ListingCreationDate\"] = df[\"ListingCreationDate\"].str.extract(r\"^(\\w+)\")\n",
    "df[\"FirstRecordedCreditLine\"] = df[\"FirstRecordedCreditLine\"].str.extract(r\"^(\\w+)\")\n",
    "df[\"LoanOriginationDate\"] = df[\"LoanOriginationDate\"].str.extract(r\"^(\\w+)\")"
   ]
  },
  {
   "cell_type": "code",
   "execution_count": 53,
   "id": "23de2396",
   "metadata": {},
   "outputs": [],
   "source": [
    "df.reset_index(inplace =True)"
   ]
  },
  {
   "cell_type": "code",
   "execution_count": 54,
   "id": "6cbf1bf1",
   "metadata": {},
   "outputs": [],
   "source": [
    "df.drop(columns=\"index\",inplace = True)"
   ]
  },
  {
   "cell_type": "markdown",
   "id": "67919f17",
   "metadata": {},
   "source": [
    "# Handiling Outlires"
   ]
  },
  {
   "cell_type": "code",
   "execution_count": 55,
   "id": "0819a3fd",
   "metadata": {},
   "outputs": [],
   "source": [
    "\"\"\"\n",
    "function which take The original data & List of columns to work on.\n",
    "We have used IQR to finish it\n",
    "\"\"\"\n",
    "def handling_outliers(orignal_df,lst_of_columns) :\n",
    "    for i in lst_of_columns:\n",
    "        q1 = orignal_df[i].quantile(0.25)\n",
    "        q3 = orignal_df[i].quantile(0.75)\n",
    "        iqr = q3 - q1\n",
    "        lower_bound = q1 -(1.5 * iqr) \n",
    "        upper_bound = q3 +(1.5 * iqr)\n",
    "        for col in range(20,orignal_df.shape[0]):\n",
    "            if orignal_df[i][col] < lower_bound :\n",
    "                orignal_df[i][col]  = lower_bound\n",
    "            elif orignal_df[i][col] > upper_bound :\n",
    "                orignal_df[i][col]  = upper_bound\n",
    "            else:\n",
    "                continue \n",
    "    print(\"handling is done\")\n",
    "    \n",
    "\"\"\"\n",
    "function returnd list has just names of the continus featurs \n",
    "\"\"\"\n",
    "    \n",
    "def get_continus_list(df_):\n",
    "    obj = df_.select_dtypes('object')\n",
    "    lst = list(df_.columns)\n",
    "    obj_lst = list(obj.columns)\n",
    "    for i in obj_lst :\n",
    "        lst.remove(i)\n",
    "    return lst              "
   ]
  },
  {
   "cell_type": "code",
   "execution_count": 56,
   "id": "5f66f94e",
   "metadata": {},
   "outputs": [
    {
     "name": "stderr",
     "output_type": "stream",
     "text": [
      "<ipython-input-55-efbfcc6bac33>:14: SettingWithCopyWarning: \n",
      "A value is trying to be set on a copy of a slice from a DataFrame\n",
      "\n",
      "See the caveats in the documentation: https://pandas.pydata.org/pandas-docs/stable/user_guide/indexing.html#returning-a-view-versus-a-copy\n",
      "  orignal_df[i][col]  = lower_bound\n",
      "<ipython-input-55-efbfcc6bac33>:16: SettingWithCopyWarning: \n",
      "A value is trying to be set on a copy of a slice from a DataFrame\n",
      "\n",
      "See the caveats in the documentation: https://pandas.pydata.org/pandas-docs/stable/user_guide/indexing.html#returning-a-view-versus-a-copy\n",
      "  orignal_df[i][col]  = upper_bound\n"
     ]
    },
    {
     "name": "stdout",
     "output_type": "stream",
     "text": [
      "handling is done\n",
      "All is Done\n"
     ]
    }
   ],
   "source": [
    "handling_outliers(df,get_continus_list(df)) \n",
    "print(\"All is Done\")"
   ]
  },
  {
   "cell_type": "markdown",
   "id": "95e01c07",
   "metadata": {},
   "source": [
    "# Feature Selection"
   ]
  },
  {
   "cell_type": "code",
   "execution_count": 61,
   "id": "41c60599",
   "metadata": {},
   "outputs": [],
   "source": [
    "def target_handling(row): \n",
    "    if row == 'Completed':\n",
    "        return 1\n",
    "    else:\n",
    "        return 0\n",
    "\n",
    "df['Status'] = df['LoanStatus'].apply(target_handling)\n",
    "df.drop('LoanStatus',axis=1,inplace=True)"
   ]
  },
  {
   "cell_type": "code",
   "execution_count": 62,
   "id": "915877fd",
   "metadata": {},
   "outputs": [
    {
     "data": {
      "text/plain": [
       "0    63863\n",
       "1    19644\n",
       "Name: Status, dtype: int64"
      ]
     },
     "execution_count": 62,
     "metadata": {},
     "output_type": "execute_result"
    }
   ],
   "source": [
    "df['Status'].value_counts()"
   ]
  },
  {
   "cell_type": "code",
   "execution_count": 80,
   "id": "9dae7dba",
   "metadata": {},
   "outputs": [
    {
     "data": {
      "text/plain": [
       "Series([], dtype: float64)"
      ]
     },
     "execution_count": 80,
     "metadata": {},
     "output_type": "execute_result"
    }
   ],
   "source": [
    "obj = df.select_dtypes('object')\n",
    "obj.nunique()\n"
   ]
  },
  {
   "cell_type": "code",
   "execution_count": 78,
   "id": "37cf16e2",
   "metadata": {},
   "outputs": [],
   "source": [
    "df.drop(columns =[\"DebtToIncomeRatio\",\"IncomeRange\",\"LoanOriginationDate\"],inplace =True)"
   ]
  },
  {
   "cell_type": "code",
   "execution_count": 81,
   "id": "f308f803",
   "metadata": {},
   "outputs": [],
   "source": [
    "le = LabelEncoder()\n",
    "les = {}\n",
    "for col in obj.columns:\n",
    "    les[col] = LabelEncoder()\n",
    "    df[col]  = les[col].fit_transform(df[col])"
   ]
  },
  {
   "cell_type": "code",
   "execution_count": null,
   "id": "218e3410",
   "metadata": {},
   "outputs": [],
   "source": []
  },
  {
   "cell_type": "code",
   "execution_count": 84,
   "id": "2f87e842",
   "metadata": {},
   "outputs": [
    {
     "data": {
      "text/plain": [
       "LP_CustomerPrincipalPayments    0.620480\n",
       "LoanMonthsSinceOrigination      0.581975\n",
       "LP_CustomerPayments             0.503986\n",
       "LoanOriginalAmount             -0.237274\n",
       "Term                           -0.253068\n",
       "ListingCreationDate            -0.562995\n",
       "dtype: float64"
      ]
     },
     "execution_count": 84,
     "metadata": {},
     "output_type": "execute_result"
    }
   ],
   "source": [
    "corrlation = df.corrwith(df['Status']).sort_values(ascending = False)\n",
    "sel_col = corrlation[(corrlation > 0.2) | (corrlation < -0.2)]\n",
    "sel_col.drop('Status',inplace=True)\n",
    "sel_col"
   ]
  },
  {
   "cell_type": "markdown",
   "id": "559ad343",
   "metadata": {},
   "source": [
    "# Preprocessing "
   ]
  },
  {
   "cell_type": "code",
   "execution_count": 86,
   "id": "f0586c31",
   "metadata": {},
   "outputs": [],
   "source": [
    "X = df[sel_col.index]\n",
    "y= df['Status']"
   ]
  },
  {
   "cell_type": "code",
   "execution_count": 89,
   "id": "71118806",
   "metadata": {},
   "outputs": [],
   "source": [
    "X_train, X_test, y_train, y_test = train_test_split(X, y, test_size=0.33, random_state=42)"
   ]
  },
  {
   "cell_type": "code",
   "execution_count": 104,
   "id": "56055b69",
   "metadata": {},
   "outputs": [],
   "source": [
    "sc = StandardScaler()\n",
    "X_train = sc.fit_transform(X_train)\n",
    "X_test = sc.transform(X_test)"
   ]
  },
  {
   "cell_type": "markdown",
   "id": "a70dc654",
   "metadata": {},
   "source": [
    "# Modeling\n"
   ]
  },
  {
   "cell_type": "code",
   "execution_count": 91,
   "id": "c6ad29d4",
   "metadata": {},
   "outputs": [],
   "source": [
    "criterion = ['gini', 'entropy']\n",
    "max_depth = [2,4,6,8,10,12]"
   ]
  },
  {
   "cell_type": "code",
   "execution_count": 92,
   "id": "09431399",
   "metadata": {},
   "outputs": [
    {
     "data": {
      "text/plain": [
       "{'criterion': ['gini', 'entropy'], 'max_depth': [2, 4, 6, 8, 10, 12]}"
      ]
     },
     "execution_count": 92,
     "metadata": {},
     "output_type": "execute_result"
    }
   ],
   "source": [
    "parameters = dict(criterion=criterion,max_depth=max_depth)\n",
    "parameters"
   ]
  },
  {
   "cell_type": "code",
   "execution_count": 105,
   "id": "c2788aff",
   "metadata": {},
   "outputs": [
    {
     "data": {
      "text/plain": [
       "GridSearchCV(estimator=DecisionTreeClassifier(),\n",
       "             param_grid={'criterion': ['gini', 'entropy'],\n",
       "                         'max_depth': [2, 4, 6, 8, 10, 12]})"
      ]
     },
     "execution_count": 105,
     "metadata": {},
     "output_type": "execute_result"
    }
   ],
   "source": [
    "dt_cl = tree.DecisionTreeClassifier()\n",
    "clf_GS = GridSearchCV(dt_cl, parameters)\n",
    "clf_GS.fit(X_train,y_train)"
   ]
  },
  {
   "cell_type": "code",
   "execution_count": 94,
   "id": "2045f12c",
   "metadata": {},
   "outputs": [
    {
     "name": "stdout",
     "output_type": "stream",
     "text": [
      "Best Criterion: gini\n",
      "Best max_depth: 10\n"
     ]
    }
   ],
   "source": [
    "print('Best Criterion:', clf_GS.best_estimator_.get_params()['criterion'])\n",
    "print('Best max_depth:', clf_GS.best_estimator_.get_params()['max_depth'])"
   ]
  },
  {
   "cell_type": "code",
   "execution_count": 106,
   "id": "6cc4a23a",
   "metadata": {},
   "outputs": [],
   "source": [
    "dt_cl = tree.DecisionTreeClassifier(criterion=\"gini\",max_depth =10,min_samples_split=2,min_samples_leaf=1)\n"
   ]
  },
  {
   "cell_type": "code",
   "execution_count": 107,
   "id": "cfdc421f",
   "metadata": {},
   "outputs": [
    {
     "data": {
      "text/plain": [
       "DecisionTreeClassifier(max_depth=10)"
      ]
     },
     "execution_count": 107,
     "metadata": {},
     "output_type": "execute_result"
    }
   ],
   "source": [
    "dt_cl.fit(X_train,y_train)"
   ]
  },
  {
   "cell_type": "markdown",
   "id": "8b7120f2",
   "metadata": {},
   "source": [
    "# Model Evaluation"
   ]
  },
  {
   "cell_type": "code",
   "execution_count": 108,
   "id": "2476fd40",
   "metadata": {},
   "outputs": [
    {
     "name": "stdout",
     "output_type": "stream",
     "text": [
      "Train Score : 98.926%\n",
      "Test Score : 98.614%\n"
     ]
    }
   ],
   "source": [
    "print(\"Train Score : \"+str(round((dt_cl.score(X_train,y_train))*100,3) )+\"%\")\n",
    "print(\"Test Score : \"+str(round((dt_cl.score(X_test,y_test))*100,3)) +\"%\")"
   ]
  },
  {
   "cell_type": "code",
   "execution_count": 109,
   "id": "ce5745ab",
   "metadata": {},
   "outputs": [
    {
     "data": {
      "text/plain": [
       "(<Figure size 864x360 with 1 Axes>,\n",
       " <AxesSubplot:xlabel='predicted label', ylabel='true label'>)"
      ]
     },
     "execution_count": 109,
     "metadata": {},
     "output_type": "execute_result"
    },
    {
     "data": {
      "image/png": "[encoded data removed]",
      "text/plain": [
       "<Figure size 864x360 with 1 Axes>"
      ]
     },
     "metadata": {
      "needs_background": "light"
     },
     "output_type": "display_data"
    }
   ],
   "source": [
    "plot_confusion_matrix(confusion_matrix(y_test,dt_cl.predict(X_test)),figsize=(12,5))"
   ]
  },
  {
   "cell_type": "code",
   "execution_count": 110,
   "id": "7ba81c3e",
   "metadata": {},
   "outputs": [
    {
     "name": "stdout",
     "output_type": "stream",
     "text": [
      "              precision    recall  f1-score   support\n",
      "\n",
      "           0       0.99      0.99      0.99     21120\n",
      "           1       0.98      0.96      0.97      6438\n",
      "\n",
      "    accuracy                           0.99     27558\n",
      "   macro avg       0.98      0.98      0.98     27558\n",
      "weighted avg       0.99      0.99      0.99     27558\n",
      "\n"
     ]
    }
   ],
   "source": [
    "print(classification_report(y_test,dt_cl.predict(X_test)))"
   ]
  },
  {
   "cell_type": "markdown",
   "id": "e2885f74",
   "metadata": {},
   "source": [
    "## Thank you "
   ]
  },
  {
   "cell_type": "code",
   "execution_count": null,
   "id": "aa1d9bdb",
   "metadata": {},
   "outputs": [],
   "source": []
  }
 ],
 "metadata": {
  "kernelspec": {
   "display_name": "Python 3",
   "language": "python",
   "name": "python3"
  },
  "language_info": {
   "codemirror_mode": {
    "name": "ipython",
    "version": 3
   },
   "file_extension": ".py",
   "mimetype": "text/x-python",
   "name": "python",
   "nbconvert_exporter": "python",
   "pygments_lexer": "ipython3",
   "version": "3.8.8"
  }
 },
 "nbformat": 4,
 "nbformat_minor": 5
}
